{
 "cells": [
  {
   "cell_type": "code",
   "execution_count": 1,
   "id": "aafcbfc1-18eb-443e-a589-bfc75c87cd30",
   "metadata": {
    "tags": []
   },
   "outputs": [
    {
     "name": "stdout",
     "output_type": "stream",
     "text": [
      "/home/ubuntu/shot-glass/python\n"
     ]
    }
   ],
   "source": [
    "%cd /home/ubuntu/shot-glass/python\n",
    "\n",
    "import math\n",
    "from importlib import reload\n",
    "\n",
    "import lunchbox.tools as lbt\n",
    "from lunchbox.enforce import Enforce, EnforceError\n",
    "import pandas as pd\n",
    "import numpy as np\n",
    "\n",
    "import shot_glass.core.monad as sgm\n",
    "from shot_glass.core.monad import *\n",
    "from shot_glass.core.basic import *\n",
    "# from shot_glass.core.df_monad import *\n",
    "# from shot_glass.core.s_monad import *"
   ]
  },
  {
   "cell_type": "code",
   "execution_count": 2,
   "id": "ce9c9e6d-e2e5-4dea-bf12-d9b42f041b9c",
   "metadata": {
    "tags": []
   },
   "outputs": [
    {
     "name": "stdout",
     "output_type": "stream",
     "text": [
      "fmap Try Success(2)\n",
      "bind Monad Monad(2)\n",
      "app Try Success(2)\n",
      "fmap Try Failure(can only concatenate str (not \"int\") to str)\n",
      "bind Try Failure(can only concatenate str (not \"int\") to str)\n",
      "app Try Failure(can only concatenate str (not \"int\") to str)\n"
     ]
    }
   ],
   "source": [
    "r = Try(1).fmap(lambda x: x + 1)                  \n",
    "print('fmap', r.__class__.__name__, r)\n",
    "\n",
    "r = Try(1).bind(lambda x: Monad(x + 1))           \n",
    "print('bind', r.__class__.__name__, r)\n",
    "\n",
    "r = Try(1).app(Monad(lambda x: x + 1))            \n",
    "print('app', r.__class__.__name__, r)\n",
    "\n",
    "r = Try('failsauce').fmap(lambda x: x + 1)        \n",
    "print('fmap', r.__class__.__name__, r)\n",
    "\n",
    "r = Try('failsauce').bind(lambda x: Monad(x + 1)) \n",
    "print('bind', r.__class__.__name__, r)\n",
    "\n",
    "r = Try('failsauce').app(Monad(lambda x: x + 1))  \n",
    "print('app', r.__class__.__name__, r)"
   ]
  },
  {
   "cell_type": "code",
   "execution_count": 3,
   "id": "8812de91-d205-4f06-bbef-5da5cc639a71",
   "metadata": {
    "tags": []
   },
   "outputs": [
    {
     "ename": "EnforceError",
     "evalue": "Just(1) is not a subclass or instance of Monad.",
     "output_type": "error",
     "traceback": [
      "\u001b[0;31m---------------------------------------------------------------------------\u001b[0m",
      "\u001b[0;31mEnforceError\u001b[0m                              Traceback (most recent call last)",
      "Cell \u001b[0;32mIn[3], line 1\u001b[0m\n\u001b[0;32m----> 1\u001b[0m \u001b[43mMaybe\u001b[49m\u001b[43m(\u001b[49m\u001b[38;5;241;43m1\u001b[39;49m\u001b[43m)\u001b[49m\u001b[38;5;241;43m.\u001b[39;49m\u001b[43mfmap\u001b[49m\u001b[43m(\u001b[49m\u001b[38;5;28;43;01mlambda\u001b[39;49;00m\u001b[43m \u001b[49m\u001b[43mx\u001b[49m\u001b[43m:\u001b[49m\u001b[43m \u001b[49m\u001b[43mx\u001b[49m\u001b[43m \u001b[49m\u001b[38;5;241;43m+\u001b[39;49m\u001b[43m \u001b[49m\u001b[38;5;241;43m1\u001b[39;49m\u001b[43m)\u001b[49m\n\u001b[1;32m      2\u001b[0m \u001b[38;5;66;03m# Maybe(1).fmap(lambda x: None)\u001b[39;00m\n\u001b[1;32m      3\u001b[0m \u001b[38;5;66;03m# Maybe.nothing()\u001b[39;00m\n",
      "File \u001b[0;32m~/shot-glass/python/shot_glass/core/monad.py:472\u001b[0m, in \u001b[0;36mMonad.fmap\u001b[0;34m(self, func)\u001b[0m\n\u001b[1;32m    458\u001b[0m \u001b[38;5;28;01mdef\u001b[39;00m \u001b[38;5;21mfmap\u001b[39m(\u001b[38;5;28mself\u001b[39m, func):\n\u001b[1;32m    459\u001b[0m     \u001b[38;5;66;03m# type: (Callable[[A], B]) -> MB\u001b[39;00m\n\u001b[1;32m    460\u001b[0m \u001b[38;5;250m    \u001b[39m\u001b[38;5;124;03m'''\u001b[39;00m\n\u001b[1;32m    461\u001b[0m \u001b[38;5;124;03m    Functor map: (A -> B) -> MB\u001b[39;00m\n\u001b[1;32m    462\u001b[0m \n\u001b[0;32m   (...)\u001b[0m\n\u001b[1;32m    470\u001b[0m \u001b[38;5;124;03m        Monad[B]: Monad of B.\u001b[39;00m\n\u001b[1;32m    471\u001b[0m \u001b[38;5;124;03m    '''\u001b[39;00m\n\u001b[0;32m--> 472\u001b[0m     \u001b[38;5;28;01mreturn\u001b[39;00m \u001b[43mfmap\u001b[49m\u001b[43m(\u001b[49m\u001b[43mfunc\u001b[49m\u001b[43m,\u001b[49m\u001b[43m \u001b[49m\u001b[38;5;28;43mself\u001b[39;49m\u001b[43m)\u001b[49m\n",
      "File \u001b[0;32m~/shot-glass/python/shot_glass/core/monad.py:132\u001b[0m, in \u001b[0;36mfmap\u001b[0;34m(func, monad)\u001b[0m\n\u001b[1;32m    113\u001b[0m \u001b[38;5;28;01mdef\u001b[39;00m \u001b[38;5;21mfmap\u001b[39m(func, monad):\n\u001b[1;32m    114\u001b[0m     \u001b[38;5;66;03m# type: (Callable[[A], B], Monad[A]) -> Monad[B]\u001b[39;00m\n\u001b[1;32m    115\u001b[0m \u001b[38;5;250m    \u001b[39m\u001b[38;5;124;03m'''\u001b[39;00m\n\u001b[1;32m    116\u001b[0m \u001b[38;5;124;03m    Functor map: (A -> B) -> MA -> MB\u001b[39;00m\n\u001b[1;32m    117\u001b[0m \n\u001b[0;32m   (...)\u001b[0m\n\u001b[1;32m    130\u001b[0m \u001b[38;5;124;03m        Monad[B]: Monad of B.\u001b[39;00m\n\u001b[1;32m    131\u001b[0m \u001b[38;5;124;03m    '''\u001b[39;00m\n\u001b[0;32m--> 132\u001b[0m     \u001b[43menforce_monad\u001b[49m\u001b[43m(\u001b[49m\u001b[43mmonad\u001b[49m\u001b[43m)\u001b[49m\n\u001b[1;32m    133\u001b[0m     \u001b[38;5;28;01mreturn\u001b[39;00m wrap(monad, func(unwrap(monad)))\n",
      "File \u001b[0;32m~/shot-glass/python/shot_glass/core/monad.py:55\u001b[0m, in \u001b[0;36menforce_monad\u001b[0;34m(item)\u001b[0m\n\u001b[1;32m     53\u001b[0m     pred \u001b[38;5;241m=\u001b[39m \u001b[38;5;28missubclass\u001b[39m\n\u001b[1;32m     54\u001b[0m \u001b[38;5;28;01mif\u001b[39;00m \u001b[38;5;129;01mnot\u001b[39;00m pred(item, Monad):\n\u001b[0;32m---> 55\u001b[0m     \u001b[38;5;28;01mraise\u001b[39;00m EnforceError(\u001b[38;5;124mf\u001b[39m\u001b[38;5;124m'\u001b[39m\u001b[38;5;132;01m{\u001b[39;00mitem\u001b[38;5;132;01m}\u001b[39;00m\u001b[38;5;124m is not a subclass or instance of Monad.\u001b[39m\u001b[38;5;124m'\u001b[39m)\n",
      "\u001b[0;31mEnforceError\u001b[0m: Just(1) is not a subclass or instance of Monad."
     ]
    }
   ],
   "source": [
    "Maybe(1).fmap(lambda x: x + 1)\n",
    "# Maybe(1).fmap(lambda x: None)\n",
    "# Maybe.nothing()"
   ]
  },
  {
   "cell_type": "code",
   "execution_count": null,
   "id": "93e54f82-7860-49a2-8fdd-4982fcad02a1",
   "metadata": {},
   "outputs": [
    {
     "data": {
      "text/plain": [
       "Failure(unsupported operand type(s) for +: 'int' and 'str')"
      ]
     },
     "execution_count": 8,
     "metadata": {},
     "output_type": "execute_result"
    }
   ],
   "source": [
    "class Maybe(Monad):\n",
    "    @classmethod\n",
    "    def just(cls, value):\n",
    "        return cls(value)dev.l\n",
    "    @classmethod\n",
    "    def nothing(cls, value=None):\n",
    "        return cls(value)\n",
    "\n",
    "    def __repr__(self):\n",
    "        if self.state == 'just':\n",
    "            return f'Just({self._data})'\n",
    "        return 'Nothing'\n",
    "    \n",
    "    @property\n",
    "    def state(self):\n",
    "        data = self._data\n",
    "        if data is None or pd.isna(data):\n",
    "            return 'nothing'\n",
    "        return 'just'\n",
    "    \n",
    "    @classmethod\n",
    "    def _try(cls, monad, method, func):\n",
    "        if monad.state == 'nothing':\n",
    "            return cls.nothing(monad.unwrap())\n",
    "        return cls.just(monad.unwrap())\n",
    "\n",
    "Maybe(1).fmap(lambda x: x + 1)\n",
    "Maybe(1).fmap(lambda x: None)\n",
    "# Maybe(1).fmap(lambda x: x + 'a')\n",
    "m = Try(Maybe(1))\n",
    "m.fmap(lambda x: x.unwrap() + 1)\n",
    "m.fmap(lambda x: x.fmap(lambda x: x + 1))\n",
    "m.fmap(lambda x: x.fmap(lambda x: None))\n",
    "m.fmap(lambda x: x.fmap(lambda x: x + 'a'))"
   ]
  },
  {
   "cell_type": "code",
   "execution_count": 128,
   "id": "c76c6d02-c43d-455d-b074-1c4c5b714a36",
   "metadata": {},
   "outputs": [],
   "source": [
    "data = pd.DataFrame()\n",
    "data['foo'] = [None, 2, 3]\n",
    "data['bar'] = [1, 'a', 'b']"
   ]
  },
  {
   "cell_type": "code",
   "execution_count": 129,
   "id": "44f79718-a1f7-4ffa-96d2-6f0be9300854",
   "metadata": {
    "tags": []
   },
   "outputs": [
    {
     "data": {
      "text/html": [
       "<div>\n",
       "<style scoped>\n",
       "    .dataframe tbody tr th:only-of-type {\n",
       "        vertical-align: middle;\n",
       "    }\n",
       "\n",
       "    .dataframe tbody tr th {\n",
       "        vertical-align: top;\n",
       "    }\n",
       "\n",
       "    .dataframe thead th {\n",
       "        text-align: right;\n",
       "    }\n",
       "</style>\n",
       "<table border=\"1\" class=\"dataframe\">\n",
       "  <thead>\n",
       "    <tr style=\"text-align: right;\">\n",
       "      <th></th>\n",
       "      <th>foo</th>\n",
       "      <th>bar</th>\n",
       "    </tr>\n",
       "  </thead>\n",
       "  <tbody>\n",
       "    <tr>\n",
       "      <th>0</th>\n",
       "      <td>&lt;class '__main__.Maybe'&gt;</td>\n",
       "      <td>&lt;class '__main__.Try'&gt;</td>\n",
       "    </tr>\n",
       "    <tr>\n",
       "      <th>1</th>\n",
       "      <td>&lt;class '__main__.Try'&gt;</td>\n",
       "      <td>&lt;class '__main__.Try'&gt;</td>\n",
       "    </tr>\n",
       "    <tr>\n",
       "      <th>2</th>\n",
       "      <td>&lt;class '__main__.Try'&gt;</td>\n",
       "      <td>&lt;class '__main__.Try'&gt;</td>\n",
       "    </tr>\n",
       "  </tbody>\n",
       "</table>\n",
       "</div>"
      ],
      "text/plain": [
       "                        foo                     bar\n",
       "0  <class '__main__.Maybe'>  <class '__main__.Try'>\n",
       "1    <class '__main__.Try'>  <class '__main__.Try'>\n",
       "2    <class '__main__.Try'>  <class '__main__.Try'>"
      ]
     },
     "execution_count": 129,
     "metadata": {},
     "output_type": "execute_result"
    }
   ],
   "source": [
    "m = DFMonad(data) \\\n",
    "    .wrap_elements(Maybe) \\\n",
    "    .bind_elements(Try.wrap)\n",
    "\n",
    "# m = DFMonad(data) \\\n",
    "#     .wrap_elements(Try) \\\n",
    "#     .bind_elements(Maybe.wrap)\n",
    "    \n",
    "# m = DFMonad(data) \\\n",
    "    # .wrap_elements(Try) \\\n",
    "#     .bind_elements(Maybe)\n",
    "\n",
    "m.unwrap().applymap(type)\n",
    "# x = m.unwrap().loc[0, 'foo']\n",
    "# x.unwrap()\n",
    "# m\n",
    "# m.fmap(type)\n",
    "# x = m.unwrap().loc[0, 'foo']\n",
    "# type(x), type(x.unwrap()), type(x.unwrap().unwrap())"
   ]
  },
  {
   "cell_type": "code",
   "execution_count": 16,
   "id": "4ef87181-2a59-43eb-bdf7-ef0575fb43d3",
   "metadata": {
    "tags": []
   },
   "outputs": [
    {
     "data": {
      "text/plain": [
       "Vertex([2, 3, 1])"
      ]
     },
     "execution_count": 16,
     "metadata": {},
     "output_type": "execute_result"
    }
   ],
   "source": [
    "class Vertex(sgm.Monad):\n",
    "    def __init__(self, data):\n",
    "        super().__init__(data)\n",
    "        self.validate()\n",
    "    \n",
    "    def validate(self):\n",
    "        data = self._data\n",
    "        assert len(data) == 3\n",
    "        for i in data:\n",
    "            assert type(i) in [int, float]\n",
    "\n",
    "v = Vertex.wrap([2, 3, 1])\n",
    "v"
   ]
  },
  {
   "cell_type": "code",
   "execution_count": null,
   "id": "1b4f1ecc-d09d-4021-b715-61d5222f4863",
   "metadata": {},
   "outputs": [],
   "source": []
  }
 ],
 "metadata": {
  "kernelspec": {
   "display_name": "Python 3 (ipykernel)",
   "language": "python",
   "name": "python3"
  },
  "language_info": {
   "codemirror_mode": {
    "name": "ipython",
    "version": 3
   },
   "file_extension": ".py",
   "mimetype": "text/x-python",
   "name": "python",
   "nbconvert_exporter": "python",
   "pygments_lexer": "ipython3",
   "version": "3.10.6"
  }
 },
 "nbformat": 4,
 "nbformat_minor": 5
}
