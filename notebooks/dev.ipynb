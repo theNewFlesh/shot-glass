{
 "cells": [
  {
   "cell_type": "code",
   "execution_count": 1,
   "id": "aafcbfc1-18eb-443e-a589-bfc75c87cd30",
   "metadata": {
    "tags": []
   },
   "outputs": [
    {
     "name": "stdout",
     "output_type": "stream",
     "text": [
      "/home/ubuntu/shot-glass/python\n",
      "WARN (bgl): source/blender/python/generic/bgl.c:2654 BPyInit_bgl: 'bgl' imported without an OpenGL backend. Please update your add-ons to use the 'gpu' module. In Blender 4.0 'bgl' will be removed.\n"
     ]
    }
   ],
   "source": [
    "%cd /home/ubuntu/shot-glass/python\n",
    "\n",
    "from importlib import reload\n",
    "\n",
    "import lunchbox.tools as lbt\n",
    "from lunchbox.enforce import EnforceError\n",
    "import pandas as pd\n",
    "\n",
    "from shot_glass.core.monad import *\n",
    "from shot_glass.core.df_monad import *"
   ]
  },
  {
   "cell_type": "code",
   "execution_count": 8,
   "id": "b4285bb9-6091-4958-aff5-31c91330398c",
   "metadata": {
    "tags": []
   },
   "outputs": [
    {
     "name": "stdout",
     "output_type": "stream",
     "text": [
      "Nothing\n",
      "Nothing\n",
      "Nothing\n",
      "Nothing\n",
      "Success(3)\n",
      "Just(5)\n"
     ]
    },
    {
     "data": {
      "text/plain": [
       "Just(1)"
      ]
     },
     "execution_count": 8,
     "metadata": {},
     "output_type": "execute_result"
    }
   ],
   "source": [
    "class Maybe(Monad):\n",
    "    @classmethod\n",
    "    def just(cls, value):\n",
    "        return cls(value)\n",
    "    \n",
    "    @classmethod\n",
    "    def nothing(cls):\n",
    "        return cls(None)\n",
    "    \n",
    "    @property\n",
    "    def state(self):\n",
    "        if self._data is None:\n",
    "            return 'nothing'\n",
    "        return 'just'\n",
    "    \n",
    "    def __repr__(self):\n",
    "        if self.state == 'just':\n",
    "            return f'Just({self._data})'\n",
    "        return 'Nothing'\n",
    "    \n",
    "    def _try(self, method, func):\n",
    "        if self._data is None:\n",
    "            return self.nothing()\n",
    "        try:\n",
    "            return method(func)\n",
    "        except:\n",
    "            return self.nothing()\n",
    "    \n",
    "    def bind(self, func):\n",
    "        return self._try(super().bind, func)\n",
    "\n",
    "    def fmap(self, func):\n",
    "        return self._try(super().fmap, func)\n",
    "    \n",
    "class ErrorCapture(Maybe):\n",
    "    def _try(self, method, func):\n",
    "        if self._data is None:\n",
    "            return self.nothing()\n",
    "        try:\n",
    "            return method(func)\n",
    "        except Exception as e:\n",
    "            return self.fail(e)\n",
    "    \n",
    "class Either(Monad):\n",
    "    @classmethod\n",
    "    def success(cls, value):\n",
    "        output = cls(value)\n",
    "        output._constructor = 'success'\n",
    "        return output\n",
    "    \n",
    "    @classmethod\n",
    "    def failure(cls, error):\n",
    "        output = cls(error)\n",
    "        output._constructor = 'failure'\n",
    "        return output\n",
    "    \n",
    "    def __repr__(self):\n",
    "        return f'{self._constructor.capitalize()}({self._data})'\n",
    "        \n",
    "def try_(func, *args, **kwargs):\n",
    "    def do(func, *args, **kwargs):\n",
    "        try:\n",
    "            return func(*args, **kwargs)\n",
    "        except Exception as e:\n",
    "            return e\n",
    "    return Monad.wrap(do(func, *args, **kwargs))\n",
    "    \n",
    "try_(lambda x: x + '1', 1)\n",
    "# try_(lambda x: x + '1', 'a')\n",
    "print( Maybe.nothing().bind(lambda x: x / 0) )\n",
    "print( Maybe.nothing().bind(lambda x: Either.success(x + 2)) )\n",
    "print( Maybe.nothing().fmap(lambda x: x + 4) )\n",
    "print( Maybe.just(1).bind(lambda x: x / 0) )\n",
    "print( Maybe.just(1).bind(lambda x: Either.success(x + 2)) )\n",
    "print( Maybe.just(1).fmap(lambda x: x + 4) )\n",
    "# Either.success(1)\n",
    "# Either.failure(4)\n",
    "\n",
    "Maybe.just(1)"
   ]
  },
  {
   "cell_type": "code",
   "execution_count": 9,
   "id": "c76c6d02-c43d-455d-b074-1c4c5b714a36",
   "metadata": {},
   "outputs": [
    {
     "name": "stdout",
     "output_type": "stream",
     "text": [
      "error raised\n",
      "\n"
     ]
    }
   ],
   "source": [
    "data = pd.DataFrame()\n",
    "data['foo'] = [1, 2, 3]\n",
    "data['bar'] = list('abc')\n",
    "\n",
    "try:\n",
    "    data.applymap(lambda x: x + 100)\n",
    "except:\n",
    "    print('error raised')\n",
    "    print()"
   ]
  },
  {
   "cell_type": "code",
   "execution_count": 10,
   "id": "d5a8fd21-c3f9-4960-a597-99a7813602f4",
   "metadata": {
    "tags": []
   },
   "outputs": [
    {
     "data": {
      "text/plain": [
       "DFMonad\n",
       "   foo   bar\n",
       "0  101  None\n",
       "1  102  None\n",
       "2  103  None"
      ]
     },
     "execution_count": 10,
     "metadata": {},
     "output_type": "execute_result"
    }
   ],
   "source": [
    "m = DFMonad(data)\n",
    "\n",
    "try:\n",
    "    m = m.applymap(lambda x: x + 100, monad=Maybe)\n",
    "except:\n",
    "    print('error raised')\n",
    "    print()\n",
    "    \n",
    "m"
   ]
  },
  {
   "cell_type": "code",
   "execution_count": 12,
   "id": "44f79718-a1f7-4ffa-96d2-6f0be9300854",
   "metadata": {
    "tags": []
   },
   "outputs": [
    {
     "data": {
      "text/plain": [
       "DFMonad\n",
       "   foo                                          bar\n",
       "0  101  can only concatenate str (not \"int\") to str\n",
       "1  102  can only concatenate str (not \"int\") to str\n",
       "2  103  can only concatenate str (not \"int\") to str"
      ]
     },
     "execution_count": 12,
     "metadata": {},
     "output_type": "execute_result"
    }
   ],
   "source": [
    "DFMonad(data).applymap(lambda x: x + 100, monad=ErrorCapture)"
   ]
  },
  {
   "cell_type": "code",
   "execution_count": 6,
   "id": "bf46e1ec-174d-4f8e-b208-30fac81d1c54",
   "metadata": {},
   "outputs": [
    {
     "data": {
      "text/plain": [
       "DFMonad\n",
       "         foo      bar\n",
       "0  Just(101)  Nothing\n",
       "1  Just(102)  Nothing\n",
       "2  Just(103)  Nothing"
      ]
     },
     "execution_count": 6,
     "metadata": {},
     "output_type": "execute_result"
    }
   ],
   "source": [
    "m = DFMonad(data) \\\n",
    "    .wrap_elements(Maybe) \\\n",
    "    .fmap_elements(lambda x: x + 100)\n",
    "    # .unwrap_elements()\n",
    "    # .unwrap()\n",
    "m"
   ]
  },
  {
   "cell_type": "code",
   "execution_count": null,
   "id": "4ef87181-2a59-43eb-bdf7-ef0575fb43d3",
   "metadata": {},
   "outputs": [],
   "source": []
  },
  {
   "cell_type": "code",
   "execution_count": null,
   "id": "1b4f1ecc-d09d-4021-b715-61d5222f4863",
   "metadata": {},
   "outputs": [],
   "source": []
  }
 ],
 "metadata": {
  "kernelspec": {
   "display_name": "Python 3 (ipykernel)",
   "language": "python",
   "name": "python3"
  },
  "language_info": {
   "codemirror_mode": {
    "name": "ipython",
    "version": 3
   },
   "file_extension": ".py",
   "mimetype": "text/x-python",
   "name": "python",
   "nbconvert_exporter": "python",
   "pygments_lexer": "ipython3",
   "version": "3.10.6"
  }
 },
 "nbformat": 4,
 "nbformat_minor": 5
}
