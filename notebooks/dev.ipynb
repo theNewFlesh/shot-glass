{
 "cells": [
  {
   "cell_type": "code",
   "execution_count": 1,
   "id": "aafcbfc1-18eb-443e-a589-bfc75c87cd30",
   "metadata": {
    "tags": []
   },
   "outputs": [
    {
     "name": "stdout",
     "output_type": "stream",
     "text": [
      "/home/ubuntu/shot-glass/python\n",
      "WARN (bgl): source/blender/python/generic/bgl.c:2654 BPyInit_bgl: 'bgl' imported without an OpenGL backend. Please update your add-ons to use the 'gpu' module. In Blender 4.0 'bgl' will be removed.\n"
     ]
    }
   ],
   "source": [
    "%cd /home/ubuntu/shot-glass/python\n",
    "\n",
    "from importlib import reload\n",
    "\n",
    "import lunchbox.tools as lbt\n",
    "from lunchbox.enforce import EnforceError\n",
    "import pandas as pd\n",
    "\n",
    "from shot_glass.core.monad import *\n",
    "from shot_glass.core.df_monad import *"
   ]
  },
  {
   "cell_type": "code",
   "execution_count": 2,
   "id": "b4285bb9-6091-4958-aff5-31c91330398c",
   "metadata": {
    "tags": []
   },
   "outputs": [
    {
     "name": "stdout",
     "output_type": "stream",
     "text": [
      "Nothing\n",
      "Nothing\n",
      "Nothing\n",
      "Nothing\n",
      "Success(3)\n",
      "Just(5)\n"
     ]
    },
    {
     "data": {
      "text/plain": [
       "Just(1)"
      ]
     },
     "execution_count": 2,
     "metadata": {},
     "output_type": "execute_result"
    }
   ],
   "source": [
    "class Maybe(Monad):\n",
    "    @classmethod\n",
    "    def just(cls, value):\n",
    "        return cls(value)\n",
    "    \n",
    "    @classmethod\n",
    "    def nothing(cls):\n",
    "        return cls(None)\n",
    "    \n",
    "    @property\n",
    "    def state(self):\n",
    "        if self._data is None:\n",
    "            return 'nothing'\n",
    "        return 'just'\n",
    "    \n",
    "    def __repr__(self):\n",
    "        if self.state == 'just':\n",
    "            return f'Just({self._data})'\n",
    "        return 'Nothing'\n",
    "    \n",
    "    def _try(self, method, func):\n",
    "        if self._data is None:\n",
    "            return self.nothing()\n",
    "        try:\n",
    "            return method(func)\n",
    "        except:\n",
    "            return self.nothing()\n",
    "    \n",
    "    def bind(self, func):\n",
    "        return self._try(super().bind, func)\n",
    "\n",
    "    def fmap(self, func):\n",
    "        return self._try(super().fmap, func)\n",
    "    \n",
    "class Either(Monad):\n",
    "    @classmethod\n",
    "    def success(cls, value):\n",
    "        output = cls(value)\n",
    "        output._constructor = 'success'\n",
    "        return output\n",
    "    \n",
    "    @classmethod\n",
    "    def failure(cls, error):\n",
    "        output = cls(error)\n",
    "        output._constructor = 'failure'\n",
    "        return output\n",
    "    \n",
    "    def __repr__(self):\n",
    "        return f'{self._constructor.capitalize()}({self._data})'\n",
    "        \n",
    "def try_(func, *args, **kwargs):\n",
    "    def do(func, *args, **kwargs):\n",
    "        try:\n",
    "            return func(*args, **kwargs)\n",
    "        except Exception as e:\n",
    "            return e\n",
    "    return Monad.wrap(do(func, *args, **kwargs))\n",
    "    \n",
    "try_(lambda x: x + '1', 1)\n",
    "# try_(lambda x: x + '1', 'a')\n",
    "print( Maybe.nothing().bind(lambda x: x / 0) )\n",
    "print( Maybe.nothing().bind(lambda x: Either.success(x + 2)) )\n",
    "print( Maybe.nothing().fmap(lambda x: x + 4) )\n",
    "print( Maybe.just(1).bind(lambda x: x / 0) )\n",
    "print( Maybe.just(1).bind(lambda x: Either.success(x + 2)) )\n",
    "print( Maybe.just(1).fmap(lambda x: x + 4) )\n",
    "# Either.success(1)\n",
    "# Either.failure(4)\n",
    "\n",
    "Maybe.just(1)"
   ]
  },
  {
   "cell_type": "code",
   "execution_count": 8,
   "id": "f93cfc5d-a758-4aef-b10e-db1b18e95860",
   "metadata": {},
   "outputs": [
    {
     "data": {
      "text/html": [
       "<div>\n",
       "<style scoped>\n",
       "    .dataframe tbody tr th:only-of-type {\n",
       "        vertical-align: middle;\n",
       "    }\n",
       "\n",
       "    .dataframe tbody tr th {\n",
       "        vertical-align: top;\n",
       "    }\n",
       "\n",
       "    .dataframe thead th {\n",
       "        text-align: right;\n",
       "    }\n",
       "</style>\n",
       "<table border=\"1\" class=\"dataframe\">\n",
       "  <thead>\n",
       "    <tr style=\"text-align: right;\">\n",
       "      <th></th>\n",
       "      <th>foo</th>\n",
       "      <th>bar</th>\n",
       "    </tr>\n",
       "  </thead>\n",
       "  <tbody>\n",
       "    <tr>\n",
       "      <th>0</th>\n",
       "      <td>101</td>\n",
       "      <td>None</td>\n",
       "    </tr>\n",
       "    <tr>\n",
       "      <th>1</th>\n",
       "      <td>102</td>\n",
       "      <td>None</td>\n",
       "    </tr>\n",
       "    <tr>\n",
       "      <th>2</th>\n",
       "      <td>103</td>\n",
       "      <td>None</td>\n",
       "    </tr>\n",
       "  </tbody>\n",
       "</table>\n",
       "</div>"
      ],
      "text/plain": [
       "   foo   bar\n",
       "0  101  None\n",
       "1  102  None\n",
       "2  103  None"
      ]
     },
     "execution_count": 8,
     "metadata": {},
     "output_type": "execute_result"
    }
   ],
   "source": [
    "data = pd.DataFrame()\n",
    "data['foo'] = [1, 2, 3]\n",
    "data['bar'] = list('abc')\n",
    "\n",
    "m = DFMonad(data) \\\n",
    "    .wrap_elements(Maybe) \\\n",
    "    .fmap_elements(lambda x: x + 100) \\\n",
    "    .unwrap_elements() \\\n",
    "    .unwrap()\n",
    "m\n",
    "# m = m.applymap(lambda x: x + 'x')\n",
    "# m = m.applymap(lambda x: str(x) + 'x')\n",
    "# m.unwrap()"
   ]
  },
  {
   "cell_type": "code",
   "execution_count": null,
   "id": "239fb82c-2dfd-498c-bb60-63900b90c8e2",
   "metadata": {},
   "outputs": [],
   "source": []
  }
 ],
 "metadata": {
  "kernelspec": {
   "display_name": "Python 3 (ipykernel)",
   "language": "python",
   "name": "python3"
  },
  "language_info": {
   "codemirror_mode": {
    "name": "ipython",
    "version": 3
   },
   "file_extension": ".py",
   "mimetype": "text/x-python",
   "name": "python",
   "nbconvert_exporter": "python",
   "pygments_lexer": "ipython3",
   "version": "3.10.6"
  }
 },
 "nbformat": 4,
 "nbformat_minor": 5
}
